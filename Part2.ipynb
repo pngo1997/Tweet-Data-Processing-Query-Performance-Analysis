{
 "cells": [
  {
   "cell_type": "markdown",
   "id": "a2c16eb5-c3fc-4926-9eb9-3192ebe17785",
   "metadata": {},
   "source": [
    "#### Student Name: Mai Ngo \n",
    "#### Course Name and Number: DSC 450 Database Processing for Large-Scale Analytics \n",
    "#### Final - Part 2\n",
    "#### Date: 8/20/2023"
   ]
  },
  {
   "cell_type": "markdown",
   "id": "6c376d51-d0dd-422f-9538-3ef69ef9d6e1",
   "metadata": {},
   "source": [
    "## Part 2"
   ]
  },
  {
   "cell_type": "markdown",
   "id": "8a91fa8a-e1dc-4082-93b2-39afb50dd5b1",
   "metadata": {},
   "source": [
    "a) Write and execute a SQL query to find the average latitude value for each user ID, using both AVG and SUM/COUNT. This query does not need the User table because User ID is a foreign key in the Tweet table. E.g., something like SELECT UserID, AVG(latitude), SUM(latitude)/COUNT(latitude) FROM Tweet, Geo WHERE Tweet.GeoFK = Geo.GeoID GROUP BY UserID;"
   ]
  },
  {
   "cell_type": "markdown",
   "id": "2cc16a6e-6595-48f7-baa1-9596e9898b92",
   "metadata": {},
   "source": [
    "#### 130,000 tweets."
   ]
  },
  {
   "cell_type": "code",
   "execution_count": 55,
   "id": "b507fdf8-462d-46cc-8637-31f55d8b156f",
   "metadata": {},
   "outputs": [
    {
     "name": "stdout",
     "output_type": "stream",
     "text": [
      "(7819, -112.073076, -112.073076)\n",
      "(4462131, 139.717688, 139.717688)\n",
      "(5526282, 37.496704, 37.496704)\n",
      "(7519912, 2.355292, 2.355292)\n",
      "(8706722, -43.225287, -43.225287)\n",
      "(9412982, -83.332063, -83.332063)\n",
      "(10537182, 139.985218, 139.985218)\n",
      "(12186412, -81.45654, -81.45654)\n",
      "(13389022, -4.037291, -4.037291)\n",
      "(13394802, -95.5744, -95.5744)\n",
      "Query runtime Part 2A (130,000 tweets): 0.094864 seconds\n"
     ]
    }
   ],
   "source": [
    "import time\n",
    "import sqlite3\n",
    "\n",
    "startTime = time.time()\n",
    "connection = sqlite3.connect('DSC450-Final-130k.db')\n",
    "cursor = connection.cursor()\n",
    "#cursor.execute(\"SELECT Geo_ID FROM Tweet\")\n",
    "cursor.execute (\"SELECT Tweet.USER_ID, AVG(Geo.LATITUDE), SUM(Geo.LATITUDE)/COUNT(Geo.LATITUDE) FROM Tweet, Geo WHERE Tweet.GEO_ID = Geo.GEO_ID GROUP BY Tweet.USER_ID;\")\n",
    "results_2A = cursor.fetchall()\n",
    "for i, row in enumerate(results_2A):\n",
    "    if i>=10: break\n",
    "    print(row)\n",
    "    \n",
    "connection.commit()\n",
    "connection.close()\n",
    "endTime = time.time()\n",
    "runTime_2A = endTime-startTime\n",
    "print(f\"Query runtime Part 2A (130,000 tweets): {runTime_2A:4f} seconds\")"
   ]
  },
  {
   "cell_type": "markdown",
   "id": "c93a2278-e30b-4ae9-9130-bc1af8346bdc",
   "metadata": {},
   "source": [
    "b) Re-execute the SQL query in part 2-a 5 times and 20 times and measure the total runtime (just re-run the same exact query multiple times using a for-loop, it is as simple as it looks). Does the runtime scale linearly? (i.e., does it take 5X and 20X as much time?)"
   ]
  },
  {
   "cell_type": "markdown",
   "id": "12c07e62-8104-4e33-9ed3-40ee3d8d1572",
   "metadata": {},
   "source": [
    "The run time does scale linearly, the more execution times, the longer total running time. "
   ]
  },
  {
   "cell_type": "code",
   "execution_count": 56,
   "id": "05967b49-a685-4fb7-b826-f4e8b806d502",
   "metadata": {},
   "outputs": [
    {
     "name": "stdout",
     "output_type": "stream",
     "text": [
      "Query 5 Total Runtimes Part 2B: 0.4539 seconds\n",
      "Query 20 Total Runtimes Part 2B: 1.7477 seconds\n"
     ]
    }
   ],
   "source": [
    "import time\n",
    "connection = sqlite3.connect('DSC450-Final-130k.db')\n",
    "cursor = connection.cursor()\n",
    "\n",
    "query = \"SELECT Tweet.USER_ID, AVG(Geo.LATITUDE), SUM(Geo.LATITUDE)/COUNT(Geo.LATITUDE) FROM Tweet, Geo WHERE Tweet.GEO_ID = Geo.GEO_ID GROUP BY Tweet.USER_ID;\"\n",
    "\n",
    "roundCount = [5, 20]\n",
    "for count in roundCount:\n",
    "    total_runTime_2B = 0\n",
    "    for _ in range(count):\n",
    "        startTime = time.time()\n",
    "        cursor.execute(query)\n",
    "        results_2B = cursor.fetchall()\n",
    "        endTime = time.time()\n",
    "        runTime_2B = endTime - startTime\n",
    "        total_runTime_2B += runTime_2B\n",
    "    print(f\"Query {count} Total Runtimes Part 2B: {total_runTime_2B:.4f} seconds\")\n",
    "connection.commit()\n",
    "connection.close()"
   ]
  },
  {
   "cell_type": "markdown",
   "id": "41f65d28-1a4d-4de8-9266-558c47c00d1e",
   "metadata": {},
   "source": [
    "c) Write the equivalent of the 2-a query in python (without using SQL) by reading it from the file with 650,000 tweets."
   ]
  },
  {
   "cell_type": "markdown",
   "id": "e5868dbe-3049-466a-a8c9-b1c376f645a4",
   "metadata": {},
   "source": [
    "#### 650,000 tweets."
   ]
  },
  {
   "cell_type": "code",
   "execution_count": 57,
   "id": "ba08ced5-309d-4c9b-9102-504a2ed16f4a",
   "metadata": {},
   "outputs": [],
   "source": [
    "import statistics\n",
    "import json\n",
    "\n",
    "def latitudeAvg (textFile):\n",
    "    '''Take text file input and calcuate average latitude of each user.''' \n",
    "\n",
    "    userLatitudes = {}\n",
    "    with open(textFile, 'r', encoding='utf-8') as inFile:\n",
    "        for row in inFile:\n",
    "            tweet = json.loads(row)\n",
    "            userID = tweet['user']['id']\n",
    "            if tweet['geo'] is not None:\n",
    "                latitude = tweet['geo']['coordinates'][1]\n",
    "                if userID in userLatitudes:\n",
    "                    userLatitudes[userID].append(latitude)\n",
    "                else:\n",
    "                    userLatitudes[userID] = [latitude]\n",
    "\n",
    "    results = []\n",
    "\n",
    "    for userID, latitudes in userLatitudes.items():\n",
    "        latitudeAve_sumCount = sum(latitudes) / len(latitudes)\n",
    "        latitudeAve_Stat = statistics.mean(latitudes)\n",
    "        results.append((userID, latitudeAve_sumCount, latitudeAve_Stat))\n",
    "    \n",
    "    return results\n",
    "    \n",
    "def latitudeAvg_runTime(textFile, roundCount):\n",
    "    '''Take input text file and number of execution round. Return total running time of function latitudeAvg.''' \n",
    "    \n",
    "    for count in roundCount:\n",
    "        total_runTime_2CD = 0\n",
    "        for _ in range(count):\n",
    "            startTime = time.time()\n",
    "            latitudeAvg(textFile)\n",
    "            endTime = time.time()\n",
    "            runTime_2CD = endTime - startTime\n",
    "            total_runTime_2CD += runTime_2CD\n",
    "        print(f\"Query {count} Total Runtime(s) Part 2C-D: {total_runTime_2CD:.4f} seconds\")"
   ]
  },
  {
   "cell_type": "code",
   "execution_count": 58,
   "id": "5d6ce156-162e-42fb-82b9-05ab05e810b7",
   "metadata": {},
   "outputs": [
    {
     "name": "stdout",
     "output_type": "stream",
     "text": [
      "Query 1 Total Runtime(s) Part 2C-D: 48.8380 seconds\n"
     ]
    }
   ],
   "source": [
    "latitudeAvg_runTime('650kTweets.txt', [1])"
   ]
  },
  {
   "cell_type": "markdown",
   "id": "03215ccb-3c46-4813-ac98-00ce51160464",
   "metadata": {},
   "source": [
    "d) Re-execute the query in part 2-c 5 times and 20 times and measure the total runtime. Does the runtime scale linearly?"
   ]
  },
  {
   "cell_type": "markdown",
   "id": "4be1e614-0878-4106-a4c3-3d9cf910f504",
   "metadata": {},
   "source": [
    "The run time does scale linearly, the more execution times, the longer total running time."
   ]
  },
  {
   "cell_type": "code",
   "execution_count": 59,
   "id": "8f03a9a0-3b6f-4bff-81b1-bebe04a1bf88",
   "metadata": {},
   "outputs": [
    {
     "name": "stdout",
     "output_type": "stream",
     "text": [
      "Query 5 Total Runtime(s) Part 2C-D: 227.3750 seconds\n",
      "Query 20 Total Runtime(s) Part 2C-D: 1014.9557 seconds\n"
     ]
    }
   ],
   "source": [
    "latitudeAvg_runTime('650kTweets.txt', [5, 20])"
   ]
  },
  {
   "cell_type": "markdown",
   "id": "450dc7ef-c466-4869-8226-b185b4858c53",
   "metadata": {},
   "source": [
    "e) Write the equivalent of the 2-a query in python by using regular expressions instead of json.loads(). Do not use json.loads() here. Note that you only need to find userid and geo location (if any) for each tweet, you don’t need to parse the whole thing."
   ]
  },
  {
   "cell_type": "code",
   "execution_count": 60,
   "id": "2a0d9557-e955-43b8-b106-6c858f8c61e1",
   "metadata": {},
   "outputs": [],
   "source": [
    "import re\n",
    "\n",
    "def latitudeAvg_regex(textFile):\n",
    "    '''Take text file input and calculate average latitude of each user.'''\n",
    "    \n",
    "    userLatitudes = {}\n",
    "    userID_pattern = re.compile(r'\"user\":{\"id\":(\\d+)')\n",
    "    geo_pattern = re.compile(r'\"geo\":{\"type\":\"Point\",\"coordinates\":\\[(\\-?\\d+\\.\\d+),\\s*(-?\\d+\\.\\d+)\\]}')\n",
    "    \n",
    "    with open(textFile, 'r', encoding='utf-8') as inFile:\n",
    "        for row in inFile:\n",
    "            userID_match = userID_pattern.search(row)\n",
    "            geo_match = geo_pattern.search(row)\n",
    "        \n",
    "            if userID_match and geo_match:\n",
    "                userID = int(userID_match.group(1))\n",
    "                latitude = float(geo_match.group(2))\n",
    "                if userID in userLatitudes:\n",
    "                    userLatitudes[userID].append(latitude)\n",
    "                else:\n",
    "                    userLatitudes[userID] = [latitude]\n",
    "        \n",
    "        results = []\n",
    "        \n",
    "        for userID, latitudes in userLatitudes.items():\n",
    "            latitudeAve_sumCount = sum(latitudes) / len(latitudes)\n",
    "            latitudeAve_Stat = statistics.mean(latitudes)\n",
    "            results.append((userID, latitudeAve_sumCount, latitudeAve_Stat))\n",
    "        \n",
    "        return results\n",
    "    \n",
    "def latitudeAvg_regex_runTime(textFile, roundCount):\n",
    "    '''Take input text file and number of execution round. Return total running time of function latitudeAvg.'''\n",
    "    \n",
    "    for count in roundCount:\n",
    "        total_runTime_2EF = 0\n",
    "        for _ in range(count):\n",
    "            startTime = time.time()\n",
    "            latitudeAvg_regex(textFile)\n",
    "            endTime = time.time()\n",
    "            runTime_2EF = endTime - startTime\n",
    "            total_runTime_2EF += runTime_2EF\n",
    "        print(f\"Query {count} Total Runtime(s) Part 2E-F: {total_runTime_2EF:.4f} seconds\")"
   ]
  },
  {
   "cell_type": "code",
   "execution_count": 61,
   "id": "fedff346-e987-4bd7-9b54-abbffa139e42",
   "metadata": {},
   "outputs": [
    {
     "name": "stdout",
     "output_type": "stream",
     "text": [
      "Query 1 Total Runtime(s) Part 2E-F: 20.2912 seconds\n"
     ]
    }
   ],
   "source": [
    "latitudeAvg_regex_runTime('650kTweets.txt', [1])"
   ]
  },
  {
   "cell_type": "code",
   "execution_count": 62,
   "id": "4d40b807-d76c-4806-a16a-5c80aa034301",
   "metadata": {},
   "outputs": [
    {
     "name": "stdout",
     "output_type": "stream",
     "text": [
      "Query 5 Total Runtime(s) Part 2E-F: 102.4310 seconds\n",
      "Query 20 Total Runtime(s) Part 2E-F: 387.4075 seconds\n"
     ]
    }
   ],
   "source": [
    "latitudeAvg_regex_runTime('650kTweets.txt', [5, 20])"
   ]
  }
 ],
 "metadata": {
  "kernelspec": {
   "display_name": "Python 3 (ipykernel)",
   "language": "python",
   "name": "python3"
  },
  "language_info": {
   "codemirror_mode": {
    "name": "ipython",
    "version": 3
   },
   "file_extension": ".py",
   "mimetype": "text/x-python",
   "name": "python",
   "nbconvert_exporter": "python",
   "pygments_lexer": "ipython3",
   "version": "3.9.13"
  }
 },
 "nbformat": 4,
 "nbformat_minor": 5
}
