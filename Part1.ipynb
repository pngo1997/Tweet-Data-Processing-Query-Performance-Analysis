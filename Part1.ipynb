{
 "cells": [
  {
   "cell_type": "markdown",
   "id": "684f6447-d506-49a8-8511-0f04b27a9eae",
   "metadata": {},
   "source": [
    "#### Student Name: Mai Ngo \n",
    "#### Course Name and Number: DSC 450 Database Processing for Large-Scale Analytics \n",
    "#### Final - Part 1\n",
    "#### Date: 8/20/2023"
   ]
  },
  {
   "cell_type": "markdown",
   "id": "9631c728-e268-488c-95cf-9ade8c38d1c6",
   "metadata": {},
   "source": [
    "## Part 1"
   ]
  },
  {
   "cell_type": "markdown",
   "id": "8b8d3eea-ad1b-49c6-9e5a-462ab733ea6b",
   "metadata": {},
   "source": [
    "a) Use python to download tweets from the web and save to a local text file (not into a database yet, just to a text file). This is as simple as it sounds, all you need is a for-loop that reads lines from the web and writes them into a file."
   ]
  },
  {
   "cell_type": "code",
   "execution_count": 1,
   "id": "086a48db-90f8-4fcc-928f-9891a6f6d34e",
   "metadata": {},
   "outputs": [],
   "source": [
    "import urllib.request\n",
    "import json\n",
    "import time\n",
    "\n",
    "def tweetText (tweetLimit, outputFile, dataURL):\n",
    "    '''Take number of tweet limits, output file name, and data URL. \n",
    "    Download tweets and save to output text file.'''\n",
    "    \n",
    "    startTime = time.time()\n",
    "    urlData = urllib.request.urlopen(dataURL)\n",
    "   \n",
    "    with open(outputFile, 'w', encoding='utf-8') as outfile:\n",
    "        tweetCount = 0\n",
    "        for tweet in urlData:\n",
    "            if tweetCount >= tweetLimit: break\n",
    "            tweet = tweet.decode('utf-8')\n",
    "            outfile.write(tweet)\n",
    "            tweetCount += 1\n",
    "                \n",
    "    endTime = time.time()\n",
    "    runTime = endTime - startTime\n",
    "    print (f\"Successfully load {tweetLimit} tweets into {outputFile}\")  \n",
    "    return runTime"
   ]
  },
  {
   "cell_type": "markdown",
   "id": "e30adecd-ffb0-4c83-8d49-b952551a0633",
   "metadata": {},
   "source": [
    "#### 130,000 tweets."
   ]
  },
  {
   "cell_type": "code",
   "execution_count": 16,
   "id": "158809dc-f966-4cb0-bb37-241e40c5920b",
   "metadata": {},
   "outputs": [
    {
     "name": "stdout",
     "output_type": "stream",
     "text": [
      "Successfully load 130000 tweets into 130kTweets.txt\n",
      "Query runtime 130,000 tweets Part 1A: 28.581423 seconds\n"
     ]
    }
   ],
   "source": [
    "textURL = 'http://dbgroup.cdm.depaul.edu/DSC450/OneDayOfTweets.txt'\n",
    "tweet130k_1A_runTime = tweetText (130000, '130kTweets.txt', textURL)\n",
    "print(f\"Query runtime 130,000 tweets Part 1A: {tweet130k_1A_runTime:4f} seconds\")"
   ]
  },
  {
   "cell_type": "markdown",
   "id": "8379a889-b261-407d-8c1a-ac3a292038f3",
   "metadata": {},
   "source": [
    "#### 650,000 tweets."
   ]
  },
  {
   "cell_type": "code",
   "execution_count": 25,
   "id": "88ba64c9-e9a5-4db5-bef4-e44a24fca280",
   "metadata": {},
   "outputs": [
    {
     "name": "stdout",
     "output_type": "stream",
     "text": [
      "Successfully load 650000 tweets into 650kTweets.txt\n",
      "Query runtime 650,000 tweets Part 1A: 159.163692 seconds\n"
     ]
    }
   ],
   "source": [
    "tweet650k_1A_runTime = tweetText (650000, '650kTweets.txt', textURL)\n",
    "print(f\"Query runtime 650,000 tweets Part 1A: {tweet650k_1A_runTime:4f} seconds\")"
   ]
  },
  {
   "cell_type": "markdown",
   "id": "fbf40dd0-fc22-43e9-be4b-f0419ba0d3bb",
   "metadata": {},
   "source": [
    "b) Repeat what you did in part 1-a, but instead of saving tweets to the file, populate the 3-table schema that you previously created in SQLite. Be sure to execute commit and verify that the data has been successfully loaded. Report loaded row counts for each of the 3 tables."
   ]
  },
  {
   "cell_type": "code",
   "execution_count": 29,
   "id": "56e87367-59c4-43cb-b7c2-cf4cb2bd63a5",
   "metadata": {},
   "outputs": [],
   "source": [
    "tableCommand = {'User': '''\n",
    "CREATE TABLE User (\n",
    "    ID               NUMBER(35),\n",
    "    NAME             VARCHAR2(10000),\n",
    "    SCREEN_NAME      VARCHAR2(1000),\n",
    "    DESCRIPTION      VARCHAR2(100000),\n",
    "    FRIENDS_COUNT    NUMBER(35),\n",
    "  \n",
    "    CONSTRAINT User_PK\n",
    "        PRIMARY KEY(ID)\n",
    ");''',\n",
    "                'Geo':'''\n",
    "CREATE TABLE Geo (\n",
    "    GEO_ID       VARCHAR2(100),\n",
    "    TYPE         VARCHAR2(100),\n",
    "    LONGITUDE    NUMBER(10,6),\n",
    "    LATITUDE     NUMBER(10,6),\n",
    "    \n",
    "    CONSTRAINT Geo_PK\n",
    "        PRIMARY KEY(Geo_ID)\n",
    ");''',\n",
    "                'Tweet':'''\n",
    "CREATE TABLE Tweet (\n",
    "    CREATED_AT                 VARCHAR2(35),\n",
    "    ID_STR                     VARCHAR2(35),\n",
    "    TEXT                       VARCHAR2(1000),\n",
    "    SOURCE                     VARCHAR2(500),\n",
    "    IN_REPLY_TO_USER_ID        NUMBER(35),\n",
    "    IN_REPLY_TO_SCREEN_NAME    VARCHAR2(200),\n",
    "    IN_REPLY_TO_STATUS_ID      NUMBER(35),\n",
    "    RETWEET_COUNT              NUMBER(50),\n",
    "    CONTRIBUTORS               VARCHAR2(1000),\n",
    "    USER_ID                    NUMBER(35), \n",
    "    GEO_ID                     VARCHAR2(100), \n",
    "    \n",
    "    CONSTRAINT Tweet_PK\n",
    "        PRIMARY KEY(ID_STR),\n",
    "    CONSTRAINT Tweet_FK\n",
    "        FOREIGN KEY(USER_ID)\n",
    "        REFERENCES User(ID),\n",
    "    CONSTRAINT Geo_FK\n",
    "        FOREIGN KEY(GEO_ID)\n",
    "        REFERENCES Geo(GEO_ID));'''}"
   ]
  },
  {
   "cell_type": "code",
   "execution_count": 6,
   "id": "9bf07c45-6a44-4fe6-9036-f35177a82f4f",
   "metadata": {},
   "outputs": [],
   "source": [
    "import sqlite3\n",
    "\n",
    "def textURL_populateSQL(tableCommands, tweetLimit, dataURL, databaseName):\n",
    "    '''Takes table commands, tweet limit, data URL, and SQL database name. \n",
    "    Create corresponding tables and populate them with input data.'''\n",
    "    \n",
    "    connection = sqlite3.connect(databaseName)\n",
    "    cursor = connection.cursor()\n",
    "    \n",
    "    startTime = time.time()\n",
    "    urlData = urllib.request.urlopen(dataURL)\n",
    "\n",
    "    tweetData = []\n",
    "    tweetCount = 0\n",
    "    for tweet in urlData:\n",
    "        if tweetCount >= tweetLimit: break\n",
    "        tweetDecode = tweet.decode('utf-8')\n",
    "        tweetData.append(tweetDecode)\n",
    "        tweetCount += 1\n",
    "       \n",
    "    print(f\"Number of tweets retrieve: {len(tweetData)}\")\n",
    "    \n",
    "    for tableName, tableCommand in tableCommands.items():\n",
    "        cursor.execute(f\"DROP TABLE IF EXISTS {tableName}\")\n",
    "        connection.commit()\n",
    "        cursor.execute(tableCommand)\n",
    "    \n",
    "    userPlaceholder = \"?, ?, ?, ?, ?\"\n",
    "    geoPlaceholder = \"?, ?, ?, ?\"\n",
    "    tweetPlaceholder = \"?, ?, ?, ?, ?, ?, ?, ?, ?, ?, ?\"\n",
    "    \n",
    "    unique_userID = set()\n",
    "    unique_geoID = set()\n",
    "    unique_tweetID = set()\n",
    "    \n",
    "    for tweetString in tweetData:  #Iterate through each tweet.\n",
    "        tweet = json.loads(tweetString)\n",
    "        \n",
    "        userID = int(tweet['user']['id'])\n",
    "        if userID not in unique_userID:\n",
    "            unique_userID.add(userID)\n",
    "            cursor.execute(\"SELECT COUNT(*) FROM User WHERE ID = ?\", (userID,))\n",
    "            if cursor.fetchone()[0] == 0:\n",
    "                userValues = (userID, tweet['user']['name'], tweet['user']['screen_name'], \n",
    "                              tweet['user']['description'], str(tweet['user']['friends_count']))\n",
    "                cursor.execute(f\"INSERT INTO User VALUES ({userPlaceholder})\", userValues)\n",
    "        \n",
    "        if tweet['geo'] is not None:\n",
    "            geoID = f\"{tweet['geo']['coordinates'][0]}_{tweet['geo']['coordinates'][1]}\"\n",
    "            if geoID not in unique_geoID:\n",
    "                unique_geoID.add(geoID)\n",
    "                cursor.execute(\"SELECT COUNT(*) FROM Geo WHERE GEO_ID = ?\", (geoID,))\n",
    "                if cursor.fetchone()[0] == 0:\n",
    "                    geoValues = (geoID, tweet['geo']['type'], tweet['geo']['coordinates'][0], tweet['geo']['coordinates'][1])\n",
    "                    cursor.execute(f\"INSERT INTO Geo VALUES ({geoPlaceholder})\", geoValues)\n",
    "        else:\n",
    "            geoID = None\n",
    "        \n",
    "        tweetID = tweet['id_str']\n",
    "        if tweetID not in unique_tweetID:\n",
    "            unique_tweetID.add(tweetID)\n",
    "            cursor.execute(\"SELECT COUNT(*) FROM Tweet WHERE ID_STR = ?\", (tweetID,))\n",
    "            if cursor.fetchone()[0] == 0:\n",
    "                tweetValues = (tweet['created_at'], tweet['id_str'], tweet['text'], tweet['source'], \n",
    "                               tweet['in_reply_to_user_id_str'], tweet['in_reply_to_screen_name'], \n",
    "                               tweet['in_reply_to_status_id_str'], tweet['retweet_count'], \n",
    "                               tweet['contributors'], tweet['user']['id'], geoID)\n",
    "                cursor.execute(f\"INSERT INTO Tweet VALUES ({tweetPlaceholder})\", tweetValues)           \n",
    "                   \n",
    "    connection.commit()\n",
    "    connection.close()\n",
    "    \n",
    "    endTime = time.time()\n",
    "    runTime = endTime - startTime\n",
    "    print(\"Successfully created tables and inserted data.\")\n",
    "    return runTime"
   ]
  },
  {
   "cell_type": "markdown",
   "id": "f3012fd3-01d3-484c-ae8f-1e33aabaac7a",
   "metadata": {},
   "source": [
    "#### 130,000 tweets."
   ]
  },
  {
   "cell_type": "code",
   "execution_count": 7,
   "id": "1b5c60d5-f884-4b09-90a4-eaef2caead16",
   "metadata": {},
   "outputs": [
    {
     "name": "stdout",
     "output_type": "stream",
     "text": [
      "Number of tweets retrieve: 130000\n",
      "Successfully created tables and inserted data.\n",
      "Query runtime 130,000 tweets Part 1B: 38.403263 seconds\n"
     ]
    }
   ],
   "source": [
    "textURL = 'http://dbgroup.cdm.depaul.edu/DSC450/OneDayOfTweets.txt'\n",
    "databaseName_130k = 'DSC450-Final-130k.db'\n",
    "tweet130k_1B_runTime = textURL_populateSQL(tableCommand, 130000, textURL, databaseName_130k)\n",
    "print(f\"Query runtime 130,000 tweets Part 1B: {tweet130k_1B_runTime:4f} seconds\")"
   ]
  },
  {
   "cell_type": "markdown",
   "id": "ab90d312-7d74-4386-9acb-435495d99fee",
   "metadata": {},
   "source": [
    "#### Report row counts - 130k Tweets table. "
   ]
  },
  {
   "cell_type": "code",
   "execution_count": 33,
   "id": "340f3087-410d-49a7-a15d-a81b39596896",
   "metadata": {},
   "outputs": [
    {
     "name": "stdout",
     "output_type": "stream",
     "text": [
      "130k_1B - Total count in User table: 122712\n",
      "130k_1B - Total count in Geo table: 2966\n",
      "130k_1B - Total count in Tweet table: 129936\n"
     ]
    }
   ],
   "source": [
    "connection = sqlite3.connect('DSC450-Final-130k.db')\n",
    "cursor = connection.cursor()\n",
    "\n",
    "cursor.execute(\"SELECT COUNT(*) FROM User\")\n",
    "userCount_130k_1B = cursor.fetchone()[0]\n",
    "cursor.execute(\"SELECT COUNT(*) FROM Geo\")\n",
    "geoCount_130k_1B = cursor.fetchone()[0]\n",
    "cursor.execute(\"SELECT COUNT(*) FROM Tweet\")\n",
    "tweetCount_130k_1B = cursor.fetchone()[0]\n",
    "\n",
    "print(f\"130k_1B - Total count in User table: {userCount_130k_1B}\")\n",
    "print(f\"130k_1B - Total count in Geo table: {geoCount_130k_1B}\")\n",
    "print(f\"130k_1B - Total count in Tweet table: {tweetCount_130k_1B}\")\n",
    "connection.commit()\n",
    "connection.close()"
   ]
  },
  {
   "cell_type": "markdown",
   "id": "db5597bc-14ee-4df5-af26-ff537d1ae824",
   "metadata": {},
   "source": [
    "#### 650,000 tweets."
   ]
  },
  {
   "cell_type": "code",
   "execution_count": 18,
   "id": "2091dc6f-75bd-46de-88ac-1c2be8c4ed64",
   "metadata": {},
   "outputs": [
    {
     "name": "stdout",
     "output_type": "stream",
     "text": [
      "Number of tweets retrieve: 650000\n",
      "Successfully created tables and inserted data.\n",
      "Query runtime 650,000 tweets Part 1B: 228.646491 seconds\n"
     ]
    }
   ],
   "source": [
    "databaseName_650k = 'DSC450-Final-650k.db'\n",
    "tweet650k_1B_runTime = textURL_populateSQL(tableCommand, 650000, textURL, databaseName_650k)\n",
    "print(f\"Query runtime 650,000 tweets Part 1B: {tweet650k_1B_runTime:4f} seconds\")"
   ]
  },
  {
   "cell_type": "markdown",
   "id": "2f022f11-075e-42a5-8f30-734ca00ae424",
   "metadata": {},
   "source": [
    "#### Report row counts - 650k Tweets table. "
   ]
  },
  {
   "cell_type": "code",
   "execution_count": 34,
   "id": "ea86c25d-3b30-425c-bfbd-2b4c09807e4d",
   "metadata": {},
   "outputs": [
    {
     "name": "stdout",
     "output_type": "stream",
     "text": [
      "650k_1B - Total count in User table: 573179\n",
      "650k_1B - Total count in Geo table: 15694\n",
      "650k_1B - Total count in Tweet table: 649708\n"
     ]
    }
   ],
   "source": [
    "connection = sqlite3.connect('DSC450-Final-650k.db')\n",
    "cursor = connection.cursor()\n",
    "\n",
    "cursor.execute(\"SELECT COUNT(*) FROM User\")\n",
    "userCount_650k_1B = cursor.fetchone()[0]\n",
    "cursor.execute(\"SELECT COUNT(*) FROM Geo\")\n",
    "geoCount_650k_1B = cursor.fetchone()[0]\n",
    "cursor.execute(\"SELECT COUNT(*) FROM Tweet\")\n",
    "tweetCount_650k_1B = cursor.fetchone()[0] \n",
    "\n",
    "print(f\"650k_1B - Total count in User table: {userCount_650k_1B}\")\n",
    "print(f\"650k_1B - Total count in Geo table: {geoCount_650k_1B}\")\n",
    "print(f\"650k_1B - Total count in Tweet table: {tweetCount_650k_1B}\")\n",
    "connection.commit()\n",
    "connection.close()"
   ]
  },
  {
   "cell_type": "markdown",
   "id": "36dc4f29-15db-495d-bc61-64942c73d4d0",
   "metadata": {},
   "source": [
    "c) Use your locally saved tweet file to repeat the database population step from part-c. That is, load the tweets into the 3-table database using your saved file with tweets. This is the same code as in 1-b, but reading tweets from your file, not from the web."
   ]
  },
  {
   "cell_type": "code",
   "execution_count": 9,
   "id": "849b06ce-5840-44b3-85be-3047b563e4e1",
   "metadata": {},
   "outputs": [],
   "source": [
    "def textFile_populateSQL (tableCommands, dataFile, databaseName):\n",
    "    '''Takes table commands, data text file, and SQL database name. \n",
    "    Create corresponding tables and populate them with input data.'''\n",
    "    \n",
    "    connection = sqlite3.connect(databaseName)  #Open the connection.\n",
    "    cursor = connection.cursor()\n",
    "    startTime = time.time()\n",
    "    \n",
    "    tweetData = []\n",
    "    with open(dataFile, 'r', encoding='utf-8') as textFile:\n",
    "        rows = textFile.readlines()\n",
    "    for row in rows: \n",
    "        tweetData.append(row)\n",
    "    print(f\"Number of tweets retrieve: {len(tweetData)}\")\n",
    "    \n",
    "    for tableName, tableCommand in tableCommands.items():\n",
    "        cursor.execute(f\"DROP TABLE IF EXISTS {tableName}\")\n",
    "        connection.commit()\n",
    "        cursor.execute(tableCommand)\n",
    "      \n",
    "    userPlaceholder = \"?, ?, ?, ?, ?\"\n",
    "    geoPlaceholder = \"?, ?, ?, ?\"\n",
    "    tweetPlaceholder = \"?, ?, ?, ?, ?, ?, ?, ?, ?, ?, ?\"\n",
    "    \n",
    "    unique_userID = set()\n",
    "    unique_geoID = set()\n",
    "    unique_tweetID = set()\n",
    "    \n",
    "    for tweetString in tweetData:  #Iterate through each tweet.\n",
    "        tweet = json.loads(tweetString)\n",
    "        \n",
    "        userID = int(tweet['user']['id'])\n",
    "        if userID not in unique_userID:\n",
    "            unique_userID.add(userID)\n",
    "            cursor.execute(\"SELECT COUNT(*) FROM User WHERE ID = ?\", (userID,))\n",
    "            if cursor.fetchone()[0] == 0:\n",
    "                userValues = (userID, tweet['user']['name'], tweet['user']['screen_name'], \n",
    "                              tweet['user']['description'], str(tweet['user']['friends_count']))\n",
    "                cursor.execute(f\"INSERT INTO User VALUES ({userPlaceholder})\", userValues)\n",
    "        \n",
    "        if tweet['geo'] is not None:\n",
    "            geoID = f\"{tweet['geo']['coordinates'][0]}_{tweet['geo']['coordinates'][1]}\"\n",
    "            if geoID not in unique_geoID:\n",
    "                unique_geoID.add(geoID)\n",
    "                cursor.execute(\"SELECT COUNT(*) FROM Geo WHERE GEO_ID = ?\", (geoID,))\n",
    "                if cursor.fetchone()[0] == 0:\n",
    "                    geoValues = (geoID, tweet['geo']['type'], tweet['geo']['coordinates'][0], tweet['geo']['coordinates'][1])\n",
    "                    cursor.execute(f\"INSERT INTO Geo VALUES ({geoPlaceholder})\", geoValues)\n",
    "        else:\n",
    "            geoID = None\n",
    "        \n",
    "        tweetID = tweet['id_str']\n",
    "        if tweetID not in unique_tweetID:\n",
    "            unique_tweetID.add(tweetID)\n",
    "            cursor.execute(\"SELECT COUNT(*) FROM Tweet WHERE ID_STR = ?\", (tweetID,))\n",
    "            if cursor.fetchone()[0] == 0:\n",
    "                tweetValues = (tweet['created_at'], tweet['id_str'], tweet['text'], tweet['source'], \n",
    "                               tweet['in_reply_to_user_id_str'], tweet['in_reply_to_screen_name'], \n",
    "                               tweet['in_reply_to_status_id_str'], tweet['retweet_count'], \n",
    "                               tweet['contributors'], tweet['user']['id'], geoID)\n",
    "                cursor.execute(f\"INSERT INTO Tweet VALUES ({tweetPlaceholder})\", tweetValues) \n",
    "    \n",
    "    connection.commit()  #Finalize inserted data.\n",
    "    connection.close()  #Close the connection.\n",
    "    \n",
    "    endTime = time.time()\n",
    "    runTime = endTime - startTime\n",
    "    print(\"Successfully created tables and inserted data.\")\n",
    "    return runTime"
   ]
  },
  {
   "cell_type": "markdown",
   "id": "a0ae7c4a-b6fa-4801-baa1-f265de363e93",
   "metadata": {},
   "source": [
    "#### 130,000 tweets."
   ]
  },
  {
   "cell_type": "code",
   "execution_count": 10,
   "id": "b7e32b70-b2f9-4e1a-99d8-1b627e7c5dec",
   "metadata": {},
   "outputs": [
    {
     "name": "stdout",
     "output_type": "stream",
     "text": [
      "Number of tweets retrieve: 130000\n",
      "Successfully created tables and inserted data.\n",
      "Query runtime 130,000 tweets Part 1C: 13.213690 seconds\n"
     ]
    }
   ],
   "source": [
    "textFile_130k = '130kTweets.txt'\n",
    "tweet130k_1C_runTime = textFile_populateSQL(tableCommand, textFile_130k, databaseName_130k)\n",
    "print(f\"Query runtime 130,000 tweets Part 1C: {tweet130k_1C_runTime:4f} seconds\")"
   ]
  },
  {
   "cell_type": "markdown",
   "id": "bdee44cf-5516-4285-8a07-0abd2261b590",
   "metadata": {},
   "source": [
    "#### Report row counts - 130k Tweets table. "
   ]
  },
  {
   "cell_type": "code",
   "execution_count": 32,
   "id": "ce325fe7-d1dc-4c39-8fe4-3ff8601e7531",
   "metadata": {},
   "outputs": [
    {
     "name": "stdout",
     "output_type": "stream",
     "text": [
      "130k_1C - Total count in User table: 122712\n",
      "130k_1C - Total count in Geo table: 2966\n",
      "130k_1C - Total count in Tweet table: 129936\n"
     ]
    }
   ],
   "source": [
    "connection = sqlite3.connect('DSC450-Final-130k.db')\n",
    "cursor = connection.cursor()\n",
    "\n",
    "cursor.execute(\"SELECT COUNT(*) FROM User\")\n",
    "userCount_130k_1C = cursor.fetchone()[0]\n",
    "cursor.execute(\"SELECT COUNT(*) FROM Geo\")\n",
    "geoCount_130k_1C = cursor.fetchone()[0]\n",
    "cursor.execute(\"SELECT COUNT(*) FROM Tweet\")\n",
    "tweetCount_130k_1C = cursor.fetchone()[0]\n",
    "\n",
    "print(f\"130k_1C - Total count in User table: {userCount_130k_1C}\")\n",
    "print(f\"130k_1C - Total count in Geo table: {geoCount_130k_1C}\")\n",
    "print(f\"130k_1C - Total count in Tweet table: {tweetCount_130k_1C}\")\n",
    "connection.commit()\n",
    "connection.close()"
   ]
  },
  {
   "cell_type": "markdown",
   "id": "4550aca3-8ca8-434b-8171-91da7028d626",
   "metadata": {},
   "source": [
    "#### 650,000 tweets."
   ]
  },
  {
   "cell_type": "code",
   "execution_count": 20,
   "id": "9abf62cb-3a8d-48f0-b319-eeee06fad65f",
   "metadata": {},
   "outputs": [
    {
     "name": "stdout",
     "output_type": "stream",
     "text": [
      "Number of tweets retrieve: 650000\n",
      "Successfully created tables and inserted data.\n",
      "Query runtime 130,000 tweets Part 1C: 83.270349 seconds\n"
     ]
    }
   ],
   "source": [
    "textFile_650k = '650kTweets.txt'\n",
    "tweet650k_1C_runTime = textFile_populateSQL(tableCommand, textFile_650k, databaseName_650k)\n",
    "print(f\"Query runtime 130,000 tweets Part 1C: {tweet650k_1C_runTime:4f} seconds\")"
   ]
  },
  {
   "cell_type": "markdown",
   "id": "431be8d9-a1eb-4bc1-abb2-7c25a78a733e",
   "metadata": {},
   "source": [
    "#### Report row counts - 650k Tweets table. "
   ]
  },
  {
   "cell_type": "code",
   "execution_count": 35,
   "id": "2d299135-98fb-413b-b3db-3983a3f81556",
   "metadata": {},
   "outputs": [
    {
     "name": "stdout",
     "output_type": "stream",
     "text": [
      "650k_1C - Total count in User table: 573179\n",
      "650k_1C - Total count in Geo table: 15694\n",
      "650k_1C - Total count in Tweet table: 649708\n"
     ]
    }
   ],
   "source": [
    "connection = sqlite3.connect('DSC450-Final-650k.db')\n",
    "cursor = connection.cursor()\n",
    "\n",
    "cursor.execute(\"SELECT COUNT(*) FROM User\")\n",
    "userCount_650k_1C = cursor.fetchone()[0]\n",
    "cursor.execute(\"SELECT COUNT(*) FROM Geo\")\n",
    "geoCount_650k_1C = cursor.fetchone()[0]\n",
    "cursor.execute(\"SELECT COUNT(*) FROM Tweet\")\n",
    "tweetCount_650k_1C = cursor.fetchone()[0]\n",
    "\n",
    "print(f\"650k_1C - Total count in User table: {userCount_650k_1C}\")\n",
    "print(f\"650k_1C - Total count in Geo table: {geoCount_650k_1C}\")\n",
    "print(f\"650k_1C - Total count in Tweet table: {tweetCount_650k_1C}\")\n",
    "connection.commit()\n",
    "connection.close()"
   ]
  },
  {
   "cell_type": "markdown",
   "id": "f61f9b08-635d-4519-848b-cb93df9c1716",
   "metadata": {},
   "source": [
    "d) Repeat the same step with a batching size of 2,500 (i.e. by inserting 2,500 rows at a time with executemany instead of doing individual inserts). Since many of the tweets are missing a Geo location, its fine for the batches of Geo inserts to be smaller than 2,500. "
   ]
  },
  {
   "cell_type": "code",
   "execution_count": 12,
   "id": "08166621-47d8-4b71-b75f-6777cce6dd76",
   "metadata": {},
   "outputs": [],
   "source": [
    "def textFile_populateSQL_batch(tableCommands, dataFile, batchSize, databaseName):\n",
    "    '''Takes table commands, data text file, batch size, and SQL database name.\n",
    "    Create corresponding tables and populate them with input data using placeholders.'''\n",
    "    \n",
    "    connection = sqlite3.connect(databaseName)\n",
    "    cursor = connection.cursor()\n",
    "    \n",
    "    startTime = time.time()\n",
    "    \n",
    "    tweetData = []\n",
    "    with open(dataFile, 'r', encoding='utf-8') as textFile:\n",
    "        rows = textFile.readlines()\n",
    "    for row in rows: \n",
    "        tweetData.append(row)\n",
    "    print(f\"Number of tweets retrieved: {len(tweetData)}\")\n",
    "    \n",
    "    for tableName, tableCommand in tableCommands.items():\n",
    "        cursor.execute(f\"DROP TABLE IF EXISTS {tableName}\")\n",
    "        connection.commit()\n",
    "        cursor.execute(tableCommand)\n",
    "    \n",
    "    userBatch = []\n",
    "    geoBatch = []\n",
    "    tweetBatch = []\n",
    "    \n",
    "    userPlaceholder = \"?, ?, ?, ?, ?\"\n",
    "    geoPlaceholder = \"?, ?, ?, ?\"\n",
    "    tweetPlaceholder = \"?, ?, ?, ?, ?, ?, ?, ?, ?, ?, ?\"\n",
    "    \n",
    "    unique_userID = set()\n",
    "    unique_geoID = set()\n",
    "    unique_tweetID = set()\n",
    "    \n",
    "    for tweetString in tweetData:  #Iterate through each tweet.\n",
    "        tweet = json.loads(tweetString)\n",
    "        \n",
    "        userID = int(tweet['user']['id'])\n",
    "        if userID not in unique_userID:\n",
    "            unique_userID.add(userID)\n",
    "            cursor.execute(\"SELECT COUNT(*) FROM User WHERE ID = ?\", (userID,))\n",
    "            if cursor.fetchone()[0] == 0:\n",
    "                userValues = (userID, tweet['user']['name'], tweet['user']['screen_name'], \n",
    "                              tweet['user']['description'], str(tweet['user']['friends_count']))\n",
    "                userBatch.append(userValues)\n",
    "        \n",
    "        if tweet['geo'] is not None:\n",
    "            geoID = f\"{tweet['geo']['coordinates'][0]}_{tweet['geo']['coordinates'][1]}\"\n",
    "            if geoID not in unique_geoID:\n",
    "                unique_geoID.add(geoID)\n",
    "                cursor.execute(\"SELECT COUNT(*) FROM Geo WHERE GEO_ID = ?\", (geoID,))\n",
    "                if cursor.fetchone()[0] == 0:\n",
    "                    geoValues = (geoID, tweet['geo']['type'], tweet['geo']['coordinates'][0], tweet['geo']['coordinates'][1])\n",
    "                    geoBatch.append(geoValues)\n",
    "        else:\n",
    "            geoID = None\n",
    "        \n",
    "        tweetID = tweet['id_str']\n",
    "        if tweetID not in unique_tweetID:\n",
    "            unique_tweetID.add(tweetID)\n",
    "            cursor.execute(\"SELECT COUNT(*) FROM Tweet WHERE ID_STR = ?\", (tweetID,))\n",
    "            if cursor.fetchone()[0] == 0:\n",
    "                tweetValues = (tweet['created_at'], tweet['id_str'], tweet['text'], tweet['source'], \n",
    "                               tweet['in_reply_to_user_id_str'], tweet['in_reply_to_screen_name'], \n",
    "                               tweet['in_reply_to_status_id_str'], tweet['retweet_count'], \n",
    "                               tweet['contributors'], tweet['user']['id'], geoID)\n",
    "                tweetBatch.append(tweetValues)\n",
    "        \n",
    "        #Populate each batch to each table.\n",
    "        if len(userBatch) == batchSize:\n",
    "            cursor.executemany(f\"INSERT INTO User VALUES ({userPlaceholder})\", userBatch)\n",
    "            userBatch = []\n",
    "        if len(geoBatch) == batchSize:\n",
    "            cursor.executemany(f\"INSERT INTO Geo VALUES ({geoPlaceholder})\", geoBatch)\n",
    "            geoBatch = []\n",
    "        if len(tweetBatch) == batchSize:\n",
    "            cursor.executemany(f\"INSERT INTO Tweet VALUES ({tweetPlaceholder})\", tweetBatch)\n",
    "            tweetBatch = []\n",
    "\n",
    "    #Left over data.\n",
    "    if userBatch:\n",
    "        cursor.executemany(f\"INSERT INTO User VALUES ({userPlaceholder})\", userBatch)\n",
    "    if geoBatch:\n",
    "        cursor.executemany(f\"INSERT INTO geo VALUES ({geoPlaceholder})\", geoBatch)\n",
    "    if tweetBatch:\n",
    "        cursor.executemany(f\"INSERT INTO Tweet VALUES ({tweetPlaceholder})\", tweetBatch)\n",
    "    \n",
    "    connection.commit()  #Finalize inserted data.\n",
    "    connection.close()\n",
    "    endTime = time.time()\n",
    "    runTime = endTime - startTime\n",
    "    print(\"Successfully created tables and inserted data.\")\n",
    "    return runTime"
   ]
  },
  {
   "cell_type": "markdown",
   "id": "0c4bbad7-be58-4e9f-bcc6-5ccd7057b0a0",
   "metadata": {},
   "source": [
    "#### 130,000 tweets."
   ]
  },
  {
   "cell_type": "code",
   "execution_count": 13,
   "id": "01b047f8-d8b6-4283-9702-63b30c2911c3",
   "metadata": {},
   "outputs": [
    {
     "name": "stdout",
     "output_type": "stream",
     "text": [
      "Number of tweets retrieved: 130000\n",
      "Successfully created tables and inserted data.\n",
      "Query runtime 130,000 tweets Part 1D: 12.240289 seconds\n"
     ]
    }
   ],
   "source": [
    "textFile_130k = '130kTweets.txt'\n",
    "databaseName_130k = 'DSC450-Final-130k.db'\n",
    "tweet130k_1D_runTime = textFile_populateSQL_batch(tableCommand, textFile_130k, 2500, databaseName_130k)\n",
    "print(f\"Query runtime 130,000 tweets Part 1D: {tweet130k_1D_runTime:4f} seconds\")"
   ]
  },
  {
   "cell_type": "markdown",
   "id": "28dec188-b2aa-4e35-ba40-a280819a75de",
   "metadata": {},
   "source": [
    "#### Report row counts - 130k Tweets table. "
   ]
  },
  {
   "cell_type": "code",
   "execution_count": 36,
   "id": "465a8cad-ea04-4a91-94a9-a093150e372e",
   "metadata": {},
   "outputs": [
    {
     "name": "stdout",
     "output_type": "stream",
     "text": [
      "130k_1D - Total count in User table: 122712\n",
      "130k_1D - Total count in Geo table: 2966\n",
      "130k_1D - Total count in Tweet table: 129936\n"
     ]
    }
   ],
   "source": [
    "connection = sqlite3.connect('DSC450-Final-130k.db')\n",
    "cursor = connection.cursor()\n",
    "\n",
    "cursor.execute(\"SELECT COUNT(*) FROM User\")\n",
    "userCount_130k_1D = cursor.fetchone()[0]\n",
    "cursor.execute(\"SELECT COUNT(*) FROM Geo\")\n",
    "geoCount_130k_1D = cursor.fetchone()[0]\n",
    "cursor.execute(\"SELECT COUNT(*) FROM Tweet\")\n",
    "tweetCount_130k_1D = cursor.fetchone()[0]\n",
    "\n",
    "print(f\"130k_1D - Total count in User table: {userCount_130k_1D}\")\n",
    "print(f\"130k_1D - Total count in Geo table: {geoCount_130k_1D}\")\n",
    "print(f\"130k_1D - Total count in Tweet table: {tweetCount_130k_1D}\")\n",
    "connection.commit()\n",
    "connection.close()"
   ]
  },
  {
   "cell_type": "markdown",
   "id": "c3abc2f5-255f-4d3d-a3d4-462cfee26bb2",
   "metadata": {},
   "source": [
    "#### 650,000 tweets."
   ]
  },
  {
   "cell_type": "code",
   "execution_count": 22,
   "id": "999c333b-a06d-4172-bdc3-ecc8ee251406",
   "metadata": {},
   "outputs": [
    {
     "name": "stdout",
     "output_type": "stream",
     "text": [
      "Number of tweets retrieved: 650000\n",
      "Successfully created tables and inserted data.\n",
      "Query runtime 650,000 tweets Part 1D: 76.808055 seconds\n"
     ]
    }
   ],
   "source": [
    "tweet650k_1D_runTime = textFile_populateSQL_batch(tableCommand, textFile_650k, 2500, databaseName_650k)\n",
    "print(f\"Query runtime 650,000 tweets Part 1D: {tweet650k_1D_runTime:4f} seconds\")"
   ]
  },
  {
   "cell_type": "markdown",
   "id": "c6c760d9-5b43-4abd-ac1e-c2c6a27b2b08",
   "metadata": {},
   "source": [
    "#### Report row counts - 650k Tweets table. "
   ]
  },
  {
   "cell_type": "code",
   "execution_count": 37,
   "id": "a80ae798-033b-4081-9566-cda32360496e",
   "metadata": {},
   "outputs": [
    {
     "name": "stdout",
     "output_type": "stream",
     "text": [
      "650k_1D - Total count in User table: 573179\n",
      "650k_1D - Total count in Geo table: 15694\n",
      "650k_1D - Total count in Tweet table: 649708\n"
     ]
    }
   ],
   "source": [
    "connection = sqlite3.connect('DSC450-Final-650k.db')\n",
    "cursor = connection.cursor()\n",
    "\n",
    "cursor.execute(\"SELECT COUNT(*) FROM User\")\n",
    "userCount_650k_1D = cursor.fetchone()[0]\n",
    "cursor.execute(\"SELECT COUNT(*) FROM Geo\")\n",
    "geoCount_650k_1D = cursor.fetchone()[0]\n",
    "cursor.execute(\"SELECT COUNT(*) FROM Tweet\")\n",
    "tweetCount_650k_1D = cursor.fetchone()[0]\n",
    "\n",
    "print(f\"650k_1D - Total count in User table: {userCount_650k_1D}\")\n",
    "print(f\"650k_1D - Total count in Geo table: {geoCount_650k_1D}\")\n",
    "print(f\"650k_1D - Total count in Tweet table: {tweetCount_650k_1D}\")\n",
    "connection.commit()\n",
    "connection.close()"
   ]
  },
  {
   "cell_type": "markdown",
   "id": "fbec56c4-7e18-4827-af18-31cdc095a98a",
   "metadata": {},
   "source": [
    "e) Plot the resulting runtimes (# of tweets versus runtimes) using matplotlib for 1-a, 1-b, 1-c, and 1-d. How does the runtime compare?"
   ]
  },
  {
   "cell_type": "markdown",
   "id": "e0b29e46-3d49-495a-aca2-3093f7204b23",
   "metadata": {},
   "source": [
    "#### 130,000 tweets."
   ]
  },
  {
   "cell_type": "markdown",
   "id": "04c8cb33-ad46-4648-ad88-f53dfebc985b",
   "metadata": {},
   "source": [
    "Certainly, download tweets from URL to a text file yields reasonable amount of time given the number of tweets. Looking at different techniques in populating table in SQL, it is more computationally expensive (longest time) to extract the tweet data directly from the URL, comparing to extracting from a textFile. Populating with batching option is the most efficient approach since it allows multiple rows to be inserted at a time. However, if we combining download + load time (Part 1A and part 1D), it turns out to be longer than directly extracting data from the URL. Therefore, it is depend on the amount of the data, errors in the data, and complexity of the query, each approach has its own perks. Perhaps extract the tweet data directly from the URL with batching option would yield the shortest running time. Just for this assignment, last approach is the most efficient since it has the shortest running time."
   ]
  },
  {
   "cell_type": "code",
   "execution_count": 30,
   "id": "07013bd3-e95c-4bca-9748-e99b7b34f4b6",
   "metadata": {},
   "outputs": [
    {
     "data": {
      "image/png": "[encoded data removed]",
      "text/plain": [
       "<Figure size 800x400 with 1 Axes>"
      ]
     },
     "metadata": {},
     "output_type": "display_data"
    }
   ],
   "source": [
    "import matplotlib.pyplot as plt\n",
    "\n",
    "runTimes_130k = [tweet130k_1A_runTime, tweet130k_1B_runTime, tweet130k_1C_runTime, tweet130k_1D_runTime]\n",
    "labels_130k = ['1A: Download tweets URL -> textFile', '1B: Load tweets URL -> SQL tables', \n",
    "               '1C: Load tweets textFile -> SQL tables', '1D: Load tweets textFile -> SQL tables (batching)']\n",
    "\n",
    "plt.figure(figsize=(8, 4))\n",
    "plt.barh(labels_130k, runTimes_130k, color='hotpink')\n",
    "\n",
    "plt.title('130 Thousands Tweets: Runtimes Comparison')\n",
    "plt.xlabel('Runtime (seconds)')\n",
    "plt.ylabel('Scenarios')\n",
    "\n",
    "plt.xlim(0, max(runTimes_130k) + 10)\n",
    "plt.grid(axis='x')\n",
    "plt.tight_layout()\n",
    "plt.show()"
   ]
  },
  {
   "cell_type": "markdown",
   "id": "b264fa6b-77d5-4e0e-a3f7-f5e7a9451ebd",
   "metadata": {},
   "source": [
    "#### 650,000 tweets."
   ]
  },
  {
   "cell_type": "markdown",
   "id": "7f9052a8-8c54-49f7-acd6-800f82015f96",
   "metadata": {},
   "source": [
    "Running time distribution for 650,000 tweets is pretty similar to 130,000 tweets. Certainly, the overall time is much longer due to larger sample size (5 times larger). Time scale is almost same as data size scale as well. Same analysis, just for this assignment, last approach is the most efficient since it has the shortest running time."
   ]
  },
  {
   "cell_type": "code",
   "execution_count": 31,
   "id": "d6a3589b-aa11-43a1-8b41-9c78cb215dcd",
   "metadata": {},
   "outputs": [
    {
     "data": {
      "image/png": "[encoded data removed]",
      "text/plain": [
       "<Figure size 800x400 with 1 Axes>"
      ]
     },
     "metadata": {},
     "output_type": "display_data"
    }
   ],
   "source": [
    "runTimes_650k = [tweet650k_1A_runTime, tweet650k_1B_runTime, tweet650k_1C_runTime, tweet650k_1D_runTime]\n",
    "labels_650k = ['1A: Download tweets URL -> textFile', '1B: Load tweets URL -> SQL tables', \n",
    "               '1C: Load tweets textFile -> SQL tables', '1D: Load tweets textFile -> SQL tables (batching)']\n",
    "\n",
    "plt.figure(figsize=(8, 4))\n",
    "plt.barh(labels_650k, runTimes_650k, color='orange')\n",
    "\n",
    "plt.title('650 Thousands Tweets: Runtimes Comparison')\n",
    "plt.xlabel('Runtime (seconds)')\n",
    "plt.ylabel('Scenarios')\n",
    "\n",
    "plt.xlim(0, max(runTimes_650k) + 10)\n",
    "plt.grid(axis='x')\n",
    "plt.tight_layout()\n",
    "plt.show()"
   ]
  },
  {
   "cell_type": "markdown",
   "id": "b1526edb-b4a8-433d-9998-e127b6df143a",
   "metadata": {},
   "source": [
    "### Summary."
   ]
  },
  {
   "cell_type": "code",
   "execution_count": 27,
   "id": "97244c3a-dd81-4878-92f6-023859d63330",
   "metadata": {},
   "outputs": [
    {
     "name": "stdout",
     "output_type": "stream",
     "text": [
      "Part 1A:\n",
      "130,000 tweets query runtime : 28.581423 seconds\n",
      "650,000 tweets query runtime : 159.163692 seconds \n",
      "\n",
      "Part 1B:\n",
      "130,000 tweets query runtime : 38.403263 seconds\n",
      "\t Row count:\n",
      "\t 130k_1B - Total count in User table: 122712\n",
      "\t 130k_1B - Total count in Geo table: 2966\n",
      "\t 130k_1B - Total count in Tweet table: 129936\n",
      "650,000 tweets query runtime : 228.646491 seconds\n",
      "\t Row count:\n",
      "\t 650k_1B - Total count in User table: 573179\n",
      "\t 650k_1B - Total count in Geo table: 15694\n",
      "\t 650k_1B - Total count in Tweet table: 649708 \n",
      "\n",
      "Part 1C:\n",
      "130,000 tweets query runtime : 13.213690 seconds\n",
      "\t Row count:\n",
      "\t 130k_1C - Total count in User table: 122712\n",
      "\t 130k_1C - Total count in Geo table: 2966\n",
      "\t 130k_1C - Total count in Tweet table: 129936\n",
      "650,000 tweets query runtime : 83.270349 seconds\n",
      "\t Row count:\n",
      "\t 650k_1C - Total count in User table: 573179\n",
      "\t 650k_1C - Total count in Geo table: 15694\n",
      "\t 650k_1C - Total count in Tweet table: 649708 \n",
      "\n",
      "Part 1D:\n",
      "130,000 tweets query runtime : 12.240289 seconds\n",
      "\t Row count:\n",
      "\t 130k_1D - Total count in User table: 122712\n",
      "\t 130k_1D - Total count in Geo table: 2966\n",
      "\t 130k_1D - Total count in Tweet table: 129936\n",
      "650,000 tweets query runtime : 76.808055 seconds\n",
      "\t Row count:\n",
      "\t 650k_1D - Total count in User table: 573179\n",
      "\t 650k_1D - Total count in Geo table: 15694\n",
      "\t 650k_1D - Total count in Tweet table: 649708\n"
     ]
    }
   ],
   "source": [
    "print (\"Part 1A:\")\n",
    "print (f\"130,000 tweets query runtime : {tweet130k_1A_runTime:4f} seconds\")\n",
    "print (f\"650,000 tweets query runtime : {tweet650k_1A_runTime:4f} seconds \\n\")\n",
    "\n",
    "print (\"Part 1B:\")\n",
    "print (f\"130,000 tweets query runtime : {tweet130k_1B_runTime:4f} seconds\")\n",
    "print (\"\\t Row count:\")\n",
    "print(f\"\\t 130k_1B - Total count in User table: {userCount_130k_1B}\")\n",
    "print(f\"\\t 130k_1B - Total count in Geo table: {geoCount_130k_1B}\")\n",
    "print(f\"\\t 130k_1B - Total count in Tweet table: {tweetCount_130k_1B}\")\n",
    "print (f\"650,000 tweets query runtime : {tweet650k_1B_runTime:4f} seconds\")\n",
    "print (\"\\t Row count:\")\n",
    "print(f\"\\t 650k_1B - Total count in User table: {userCount_650k_1B}\")\n",
    "print(f\"\\t 650k_1B - Total count in Geo table: {geoCount_650k_1B}\")\n",
    "print(f\"\\t 650k_1B - Total count in Tweet table: {tweetCount_650k_1B} \\n\")\n",
    "\n",
    "print (\"Part 1C:\")\n",
    "print (f\"130,000 tweets query runtime : {tweet130k_1C_runTime:4f} seconds\")\n",
    "print (\"\\t Row count:\")\n",
    "print(f\"\\t 130k_1C - Total count in User table: {userCount_130k_1C}\")\n",
    "print(f\"\\t 130k_1C - Total count in Geo table: {geoCount_130k_1C}\")\n",
    "print(f\"\\t 130k_1C - Total count in Tweet table: {tweetCount_130k_1C}\")\n",
    "print (f\"650,000 tweets query runtime : {tweet650k_1C_runTime:4f} seconds\")\n",
    "print (\"\\t Row count:\")\n",
    "print(f\"\\t 650k_1C - Total count in User table: {userCount_650k_1C}\")\n",
    "print(f\"\\t 650k_1C - Total count in Geo table: {geoCount_650k_1C}\")\n",
    "print(f\"\\t 650k_1C - Total count in Tweet table: {tweetCount_650k_1C} \\n\")\n",
    "\n",
    "print (\"Part 1D:\")\n",
    "print (f\"130,000 tweets query runtime : {tweet130k_1D_runTime:4f} seconds\")\n",
    "print (\"\\t Row count:\")\n",
    "print(f\"\\t 130k_1D - Total count in User table: {userCount_130k_1D}\")\n",
    "print(f\"\\t 130k_1D - Total count in Geo table: {geoCount_130k_1D}\")\n",
    "print(f\"\\t 130k_1D - Total count in Tweet table: {tweetCount_130k_1D}\")\n",
    "print (f\"650,000 tweets query runtime : {tweet650k_1D_runTime:4f} seconds\")\n",
    "print (\"\\t Row count:\")\n",
    "print(f\"\\t 650k_1D - Total count in User table: {userCount_650k_1D}\")\n",
    "print(f\"\\t 650k_1D - Total count in Geo table: {geoCount_650k_1D}\")\n",
    "print(f\"\\t 650k_1D - Total count in Tweet table: {tweetCount_650k_1D}\")"
   ]
  }
 ],
 "metadata": {
  "kernelspec": {
   "display_name": "Python 3 (ipykernel)",
   "language": "python",
   "name": "python3"
  },
  "language_info": {
   "codemirror_mode": {
    "name": "ipython",
    "version": 3
   },
   "file_extension": ".py",
   "mimetype": "text/x-python",
   "name": "python",
   "nbconvert_exporter": "python",
   "pygments_lexer": "ipython3",
   "version": "3.9.13"
  }
 },
 "nbformat": 4,
 "nbformat_minor": 5
}
